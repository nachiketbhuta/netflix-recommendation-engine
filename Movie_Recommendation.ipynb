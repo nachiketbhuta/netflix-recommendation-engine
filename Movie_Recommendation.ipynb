{
  "nbformat": 4,
  "nbformat_minor": 0,
  "metadata": {
    "colab": {
      "name": "Netflix Recommendation Engine.ipynb",
      "provenance": [],
      "collapsed_sections": []
    },
    "kernelspec": {
      "name": "python3",
      "display_name": "Python 3"
    }
  },
  "cells": [
    {
      "cell_type": "markdown",
      "metadata": {
        "colab_type": "text",
        "id": "DYPsckIAM6Q3"
      },
      "source": [
        "** METHOD 1: RECOMMENDATION USING NATURAL LANGUAGE PROCESSING AND COSINE SIMILARITY**\n",
        "\n",
        "1. https://towardsdatascience.com/how-to-build-from-scratch-a-content-based-movie-recommender-with-natural-language-processing-25ad400eb243\n",
        "\n",
        "2. https://www.kaggle.com/vikassingh1996/netflix-movies-and-shows-plotly-recommender-sys/data#7.-Content-Based-Movie-Recommender-System"
      ]
    },
    {
      "cell_type": "code",
      "execution_count": null,
      "metadata": {},
      "outputs": [
        {
          "output_type": "error",
          "ename": "Error",
          "evalue": "Jupyter cannot be started. Error attempting to locate jupyter: ",
          "traceback": [
            "Error: Jupyter cannot be started. Error attempting to locate jupyter:",
            "at A.startServer (c:\\Users\\Hritik Jaiswal\\.vscode\\extensions\\ms-python.python-2020.2.64397\\out\\client\\extension.js:1:786058)",
            "at A.ensureServerAndNotebookImpl (c:\\Users\\Hritik Jaiswal\\.vscode\\extensions\\ms-python.python-2020.2.64397\\out\\client\\extension.js:1:785513)",
            "at A.ensureServerAndNotebook (c:\\Users\\Hritik Jaiswal\\.vscode\\extensions\\ms-python.python-2020.2.64397\\out\\client\\extension.js:1:785314)",
            "at A.submitCode (c:\\Users\\Hritik Jaiswal\\.vscode\\extensions\\ms-python.python-2020.2.64397\\out\\client\\extension.js:1:782266)",
            "at A.reexecuteCell (c:\\Users\\Hritik Jaiswal\\.vscode\\extensions\\ms-python.python-2020.2.64397\\out\\client\\extension.js:75:879318)"
          ]
        }
      ],
      "source": [
        "import pandas as pd\nimport numpy as np\n\nmovies_df = pd.read_csv(\"./data/netflix_movies.csv\")\nmovies_df.head(5)"
      ]
    },
    {
      "cell_type": "code",
      "execution_count": 3,
      "metadata": {},
      "outputs": [
        {
          "data": {
            "text/html": "<div>\n<style scoped>\n    .dataframe tbody tr th:only-of-type {\n        vertical-align: middle;\n    }\n\n    .dataframe tbody tr th {\n        vertical-align: top;\n    }\n\n    .dataframe thead th {\n        text-align: right;\n    }\n</style>\n<table border=\"1\" class=\"dataframe\">\n  <thead>\n    <tr style=\"text-align: right;\">\n      <th></th>\n      <th>title</th>\n      <th>director</th>\n      <th>cast</th>\n      <th>listed_in</th>\n      <th>description</th>\n    </tr>\n  </thead>\n  <tbody>\n    <tr>\n      <td>0</td>\n      <td>Guatemala: Heart of the Mayan World</td>\n      <td>Luis Ara, Ignacio Jaunsolo</td>\n      <td>Christian Morales</td>\n      <td>Documentaries, International Movies</td>\n      <td>From Sierra de las Minas to Esquipulas, explor...</td>\n    </tr>\n    <tr>\n      <td>1</td>\n      <td>The Zoya Factor</td>\n      <td>Abhishek Sharma</td>\n      <td>Sonam Kapoor, Dulquer Salmaan, Sanjay Kapoor, ...</td>\n      <td>Comedies, Dramas, International Movies</td>\n      <td>A goofy copywriter unwittingly convinces the I...</td>\n    </tr>\n    <tr>\n      <td>2</td>\n      <td>Atlantics</td>\n      <td>Mati Diop</td>\n      <td>Mama Sane, Amadou Mbow, Ibrahima Traore, Nicol...</td>\n      <td>Dramas, Independent Movies, International Movies</td>\n      <td>Arranged to marry a rich man, young Ada is cru...</td>\n    </tr>\n    <tr>\n      <td>3</td>\n      <td>Crazy people</td>\n      <td>Moses Inwang</td>\n      <td>Ramsey Nouah, Chigul, Sola Sobowale, Ireti Doy...</td>\n      <td>Comedies, International Movies, Thrillers</td>\n      <td>Nollywood star Ramsey Nouah learns that someon...</td>\n    </tr>\n    <tr>\n      <td>4</td>\n      <td>I Lost My Body</td>\n      <td>Jérémy Clapin</td>\n      <td>Hakim Faris, Victoire Du Bois, Patrick d'Assum...</td>\n      <td>Dramas, Independent Movies, International Movies</td>\n      <td>Romance, mystery and adventure intertwine as a...</td>\n    </tr>\n  </tbody>\n</table>\n</div>",
            "text/plain": "                                 title                    director  \\\n0  Guatemala: Heart of the Mayan World  Luis Ara, Ignacio Jaunsolo   \n1                      The Zoya Factor             Abhishek Sharma   \n2                            Atlantics                   Mati Diop   \n3                         Crazy people                Moses Inwang   \n4                       I Lost My Body               Jérémy Clapin   \n\n                                                cast  \\\n0                                  Christian Morales   \n1  Sonam Kapoor, Dulquer Salmaan, Sanjay Kapoor, ...   \n2  Mama Sane, Amadou Mbow, Ibrahima Traore, Nicol...   \n3  Ramsey Nouah, Chigul, Sola Sobowale, Ireti Doy...   \n4  Hakim Faris, Victoire Du Bois, Patrick d'Assum...   \n\n                                          listed_in  \\\n0               Documentaries, International Movies   \n1            Comedies, Dramas, International Movies   \n2  Dramas, Independent Movies, International Movies   \n3         Comedies, International Movies, Thrillers   \n4  Dramas, Independent Movies, International Movies   \n\n                                         description  \n0  From Sierra de las Minas to Esquipulas, explor...  \n1  A goofy copywriter unwittingly convinces the I...  \n2  Arranged to marry a rich man, young Ada is cru...  \n3  Nollywood star Ramsey Nouah learns that someon...  \n4  Romance, mystery and adventure intertwine as a...  "
          },
          "execution_count": 3,
          "metadata": {},
          "output_type": "execute_result"
        }
      ],
      "source": [
        "new_movies_df = movies_df[['title', 'director', 'cast', 'listed_in', 'description']]\n",
        "new_movies_df.head()"
      ]
    },
    {
      "cell_type": "code",
      "execution_count": 4,
      "metadata": {},
      "outputs": [
        {
          "name": "stdout",
          "output_type": "stream",
          "text": "Requirement already satisfied: rake-nltk in c:\\programdata\\anaconda3\\lib\\site-packages (1.0.4)\nRequirement already satisfied: nltk in c:\\programdata\\anaconda3\\lib\\site-packages (from rake-nltk) (3.4.5)\nRequirement already satisfied: six in c:\\programdata\\anaconda3\\lib\\site-packages (from nltk->rake-nltk) (1.12.0)\n"
        }
      ],
      "source": [
        "!pip install rake-nltk\n",
        "from rake_nltk import Rake\n",
        "from sklearn.metrics.pairwise import cosine_similarity\n",
        "from sklearn.feature_extraction.text import CountVectorizer"
      ]
    },
    {
      "cell_type": "code",
      "execution_count": 5,
      "metadata": {},
      "outputs": [],
      "source": [
        "# REMOVE NaN VALUES AND EMPTY STRINGS:\n",
        "new_movies_df.dropna(inplace=True)\n",
        "\n",
        "blanks = []\n",
        "\n",
        "cols = ['title', 'director', 'cast', 'listed_in', 'description']\n",
        "\n",
        "for i, col in new_movies_df.iterrows():\n",
        "  if type(col) == str:\n",
        "    if col.isspace():\n",
        "      blanks.append(i)\n",
        "\n",
        "new_movies_df.drop(blanks, inplace=True)"
      ]
    },
    {
      "cell_type": "code",
      "execution_count": 6,
      "metadata": {},
      "outputs": [],
      "source": [
        "# Initializing a new column\n",
        "new_movies_df['key_words'] = \"\"\n",
        "\n",
        "for index, row in new_movies_df.iterrows():\n",
        "  description = row['description']\n",
        "\n",
        "  # instantiating Rake, by default it uses english stopwords from NLTK\n",
        "  # and discards all puntuation characters as well\n",
        "\n",
        "  r = Rake()\n",
        "  \n",
        "  # extracting the words by passing the text\n",
        "  r.extract_keywords_from_text(description)\n",
        "\n",
        "  # getting the dictionary whith key words as keys and their scores as values\n",
        "  key_words_dict_scores = r.get_word_degrees()\n",
        "\n",
        "  # assigning the key words to the new column for the corresponding movie\n",
        "  row['key_words'] = list(key_words_dict_scores.keys())\n",
        "\n",
        "# dropping the Plot column\n",
        "new_movies_df.drop(columns = ['description'], inplace = True)\n"
      ]
    },
    {
      "cell_type": "code",
      "execution_count": 7,
      "metadata": {},
      "outputs": [],
      "source": [
        "# discarding the commas between the actors' full names and getting only the first three names\n",
        "new_movies_df['cast'] = new_movies_df['cast'].map(lambda x: x.split(',')[:3])\n",
        "\n",
        "# putting the genres in a list of words\n",
        "new_movies_df['listed_in'] = new_movies_df['listed_in'].map(lambda x: x.lower().split(','))\n",
        "\n",
        "new_movies_df['director'] = new_movies_df['director'].map(lambda x: x.split(' '))\n",
        "\n",
        "# merging together first and last name for each actor and director, so it's considered as one word \n",
        "# and there is no mix up between people sharing a first name\n",
        "for index, row in new_movies_df.iterrows():\n",
        "    row['cast'] = [x.lower().replace(' ','') for x in row['cast']]\n",
        "    row['director'] = ''.join(row['director']).lower()"
      ]
    },
    {
      "cell_type": "code",
      "execution_count": 8,
      "metadata": {},
      "outputs": [
        {
          "data": {
            "text/html": "<div>\n<style scoped>\n    .dataframe tbody tr th:only-of-type {\n        vertical-align: middle;\n    }\n\n    .dataframe tbody tr th {\n        vertical-align: top;\n    }\n\n    .dataframe thead th {\n        text-align: right;\n    }\n</style>\n<table border=\"1\" class=\"dataframe\">\n  <thead>\n    <tr style=\"text-align: right;\">\n      <th></th>\n      <th>director</th>\n      <th>cast</th>\n      <th>listed_in</th>\n      <th>key_words</th>\n    </tr>\n    <tr>\n      <th>title</th>\n      <th></th>\n      <th></th>\n      <th></th>\n      <th></th>\n    </tr>\n  </thead>\n  <tbody>\n    <tr>\n      <td>Guatemala: Heart of the Mayan World</td>\n      <td>luisara,ignaciojaunsolo</td>\n      <td>[christianmorales]</td>\n      <td>[documentaries,  international movies]</td>\n      <td>[sierra, de, las, minas, cultural, geological,...</td>\n    </tr>\n    <tr>\n      <td>The Zoya Factor</td>\n      <td>abhisheksharma</td>\n      <td>[sonamkapoor, dulquersalmaan, sanjaykapoor]</td>\n      <td>[comedies,  dramas,  international movies]</td>\n      <td>[lucky, mascot, shunning, captain, ’, supersti...</td>\n    </tr>\n    <tr>\n      <td>Atlantics</td>\n      <td>matidiop</td>\n      <td>[mamasane, amadoumbow, ibrahimatraore]</td>\n      <td>[dramas,  independent movies,  international m...</td>\n      <td>[marry, young, ada, crushed, true, love, goes,...</td>\n    </tr>\n    <tr>\n      <td>Crazy people</td>\n      <td>mosesinwang</td>\n      <td>[ramseynouah, chigul, solasobowale]</td>\n      <td>[comedies,  international movies,  thrillers]</td>\n      <td>[imposter, impersonating, someone, nollywood, ...</td>\n    </tr>\n    <tr>\n      <td>I Lost My Body</td>\n      <td>jérémyclapin</td>\n      <td>[hakimfaris, victoiredubois, patrickd'assumçao]</td>\n      <td>[dramas,  independent movies,  international m...</td>\n      <td>[mystery, mesmerizing, animated, film, adventu...</td>\n    </tr>\n  </tbody>\n</table>\n</div>",
            "text/plain": "                                                    director  \\\ntitle                                                          \nGuatemala: Heart of the Mayan World  luisara,ignaciojaunsolo   \nThe Zoya Factor                               abhisheksharma   \nAtlantics                                           matidiop   \nCrazy people                                     mosesinwang   \nI Lost My Body                                  jérémyclapin   \n\n                                                                                cast  \\\ntitle                                                                                  \nGuatemala: Heart of the Mayan World                               [christianmorales]   \nThe Zoya Factor                          [sonamkapoor, dulquersalmaan, sanjaykapoor]   \nAtlantics                                     [mamasane, amadoumbow, ibrahimatraore]   \nCrazy people                                     [ramseynouah, chigul, solasobowale]   \nI Lost My Body                       [hakimfaris, victoiredubois, patrickd'assumçao]   \n\n                                                                             listed_in  \\\ntitle                                                                                    \nGuatemala: Heart of the Mayan World             [documentaries,  international movies]   \nThe Zoya Factor                             [comedies,  dramas,  international movies]   \nAtlantics                            [dramas,  independent movies,  international m...   \nCrazy people                             [comedies,  international movies,  thrillers]   \nI Lost My Body                       [dramas,  independent movies,  international m...   \n\n                                                                             key_words  \ntitle                                                                                   \nGuatemala: Heart of the Mayan World  [sierra, de, las, minas, cultural, geological,...  \nThe Zoya Factor                      [lucky, mascot, shunning, captain, ’, supersti...  \nAtlantics                            [marry, young, ada, crushed, true, love, goes,...  \nCrazy people                         [imposter, impersonating, someone, nollywood, ...  \nI Lost My Body                       [mystery, mesmerizing, animated, film, adventu...  "
          },
          "execution_count": 8,
          "metadata": {},
          "output_type": "execute_result"
        }
      ],
      "source": [
        "\n",
        "new_movies_df.set_index('title', inplace = True)\n",
        "new_movies_df.head()"
      ]
    },
    {
      "cell_type": "code",
      "execution_count": 9,
      "metadata": {},
      "outputs": [],
      "source": [
        "new_movies_df['bag_of_words'] = ''\n",
        "columns = new_movies_df.columns\n",
        "for index, row in new_movies_df.iterrows():\n",
        "    words = ''\n",
        "    for col in columns:\n",
        "        if col != 'director':\n",
        "            words = words + ' '.join(row[col])+ ' '\n",
        "        else:\n",
        "            words = words + row[col]+ ' '\n",
        "    row['bag_of_words'] = words\n",
        "    \n",
        "new_movies_df.drop(columns = [col for col in new_movies_df.columns if col!= 'bag_of_words' and col != 'type'], inplace = True)\n"
      ]
    },
    {
      "cell_type": "code",
      "execution_count": 10,
      "metadata": {},
      "outputs": [
        {
          "data": {
            "text/html": "<div>\n<style scoped>\n    .dataframe tbody tr th:only-of-type {\n        vertical-align: middle;\n    }\n\n    .dataframe tbody tr th {\n        vertical-align: top;\n    }\n\n    .dataframe thead th {\n        text-align: right;\n    }\n</style>\n<table border=\"1\" class=\"dataframe\">\n  <thead>\n    <tr style=\"text-align: right;\">\n      <th></th>\n      <th>bag_of_words</th>\n    </tr>\n    <tr>\n      <th>title</th>\n      <th></th>\n    </tr>\n  </thead>\n  <tbody>\n    <tr>\n      <td>Guatemala: Heart of the Mayan World</td>\n      <td>luisara,ignaciojaunsolo christianmorales docum...</td>\n    </tr>\n    <tr>\n      <td>The Zoya Factor</td>\n      <td>abhisheksharma sonamkapoor dulquersalmaan sanj...</td>\n    </tr>\n    <tr>\n      <td>Atlantics</td>\n      <td>matidiop mamasane amadoumbow ibrahimatraore dr...</td>\n    </tr>\n    <tr>\n      <td>Crazy people</td>\n      <td>mosesinwang ramseynouah chigul solasobowale co...</td>\n    </tr>\n    <tr>\n      <td>I Lost My Body</td>\n      <td>jérémyclapin hakimfaris victoiredubois patrick...</td>\n    </tr>\n  </tbody>\n</table>\n</div>",
            "text/plain": "                                                                          bag_of_words\ntitle                                                                                 \nGuatemala: Heart of the Mayan World  luisara,ignaciojaunsolo christianmorales docum...\nThe Zoya Factor                      abhisheksharma sonamkapoor dulquersalmaan sanj...\nAtlantics                            matidiop mamasane amadoumbow ibrahimatraore dr...\nCrazy people                         mosesinwang ramseynouah chigul solasobowale co...\nI Lost My Body                       jérémyclapin hakimfaris victoiredubois patrick..."
          },
          "execution_count": 10,
          "metadata": {},
          "output_type": "execute_result"
        }
      ],
      "source": [
        "new_movies_df.head()"
      ]
    },
    {
      "cell_type": "markdown",
      "metadata": {
        "colab_type": "text",
        "id": "Ygb2m3bhPx88"
      },
      "source": [
        "***Feature Extraction and Modelling***"
      ]
    },
    {
      "cell_type": "code",
      "execution_count": 11,
      "metadata": {},
      "outputs": [
        {
          "data": {
            "text/plain": "0    Guatemala: Heart of the Mayan World\n1                        The Zoya Factor\n2                              Atlantics\n3                           Crazy people\n4                         I Lost My Body\nName: title, dtype: object"
          },
          "execution_count": 11,
          "metadata": {},
          "output_type": "execute_result"
        }
      ],
      "source": [
        "# instantiating and generating the count matrix\n",
        "movies_count = CountVectorizer()\n",
        "movies_count_matrix = movies_count.fit_transform(new_movies_df['bag_of_words'])\n",
        "\n",
        "# creating a Series for the movie titles so they are associated to an ordered numerical\n",
        "# list I will use later to match the indexes\n",
        "movies_indices = pd.Series(new_movies_df.index)\n",
        "movies_indices[:5]"
      ]
    },
    {
      "cell_type": "code",
      "execution_count": 12,
      "metadata": {},
      "outputs": [
        {
          "data": {
            "text/plain": "array([[1.        , 0.09304842, 0.12309149, ..., 0.05170877, 0.08891084,\n        0.04351941],\n       [0.09304842, 1.        , 0.16798421, ..., 0.05292561, 0.13650473,\n        0.08908708],\n       [0.12309149, 0.16798421, 1.        , ..., 0.09335201, 0.24077171,\n        0.19641855],\n       ...,\n       [0.05170877, 0.05292561, 0.09335201, ..., 1.        , 0.05057217,\n        0.04950738],\n       [0.08891084, 0.13650473, 0.24077171, ..., 0.05057217, 1.        ,\n        0.08512565],\n       [0.04351941, 0.08908708, 0.19641855, ..., 0.04950738, 0.08512565,\n        1.        ]])"
          },
          "execution_count": 12,
          "metadata": {},
          "output_type": "execute_result"
        }
      ],
      "source": [
        "# generating the cosine similarity matrix\n",
        "movies_cosine_sim = cosine_similarity(movies_count_matrix, movies_count_matrix)\n",
        "movies_cosine_sim"
      ]
    },
    {
      "cell_type": "code",
      "execution_count": 13,
      "metadata": {},
      "outputs": [],
      "source": [
        "# function that takes in movie title as input and returns the top 10 recommended movies\n",
        "def movie_recommendations(Title, movies_cosine_sim = movies_cosine_sim):\n",
        "    \n",
        "    recommended_movies = []\n",
        "    \n",
        "    # gettin the index of the movie that matches the title\n",
        "    idx = movies_indices[movies_indices == Title].index[0]\n",
        "\n",
        "    # creating a Series with the similarity scores in descending order\n",
        "    score_series = pd.Series(movies_cosine_sim[idx]).sort_values(ascending = False)\n",
        "\n",
        "    # getting the indexes of the 10 most similar movies\n",
        "    top_10_indexes = list(score_series.iloc[1:11].index)\n",
        "    \n",
        "    # populating the list with the titles of the best 10 matching movies\n",
        "    for i in top_10_indexes:\n",
        "        recommended_movies.append(list(new_movies_df.index)[i])\n",
        "        \n",
        "    return recommended_movies"
      ]
    },
    {
      "cell_type": "markdown",
      "metadata": {},
      "source": [
        "GET RECOMMENDATIONS FOR A MOVIE"
      ]
    },
    {
      "cell_type": "code",
      "execution_count": 14,
      "metadata": {},
      "outputs": [
        {
          "data": {
            "text/plain": "['Rocky III',\n 'Rocky IV',\n 'Rocky II',\n 'Rocky V',\n \"Logan's Run\",\n 'Indiana Jones and the Last Crusade',\n 'Thong Dee Fun Khao',\n 'Arjun: The Warrior Prince',\n 'The Bleeder',\n 'The Age of Shadows']"
          },
          "execution_count": 14,
          "metadata": {},
          "output_type": "execute_result"
        }
      ],
      "source": [
        "movie_recommendations('Rocky')"
      ]
    },
    {
      "cell_type": "code",
      "execution_count": 15,
      "metadata": {},
      "outputs": [
        {
          "data": {
            "text/plain": "['LSD: Love, Sex Aur Dhokha',\n 'Beyond All Boundaries',\n 'Dangal',\n '100 Meters',\n 'Ferrari Ki Sawaari',\n 'Iqbal',\n 'Le K Benzema',\n 'Hazaaron Khwaishein Aisi',\n '3 Heroines',\n 'Ho Mann Jahaan']"
          },
          "execution_count": 15,
          "metadata": {},
          "output_type": "execute_result"
        }
      ],
      "source": [
        "movie_recommendations('Kai Po Che!')"
      ]
    }
  ]
}