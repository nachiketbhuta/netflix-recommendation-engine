{
  "nbformat": 4,
  "nbformat_minor": 0,
  "metadata": {
    "colab": {
      "name": "Netflix Recommendation Engine.ipynb",
      "provenance": [],
      "collapsed_sections": []
    },
    "kernelspec": {
      "name": "python3",
      "display_name": "Python 3"
    }
  },
  "cells": [
    {
      "cell_type": "markdown",
      "metadata": {
        "colab_type": "text",
        "id": "DYPsckIAM6Q3"
      },
      "source": [
        "** METHOD 1: RECOMMENDATION USING NATURAL LANGUAGE PROCESSING AND COSINE SIMILARITY**\n",
        "\n",
        "1. https://towardsdatascience.com/how-to-build-from-scratch-a-content-based-movie-recommender-with-natural-language-processing-25ad400eb243\n",
        "\n",
        "2. https://www.kaggle.com/vikassingh1996/netflix-movies-and-shows-plotly-recommender-sys/data#7.-Content-Based-Movie-Recommender-System"
      ]
    },
    {
      "cell_type": "code",
      "execution_count": 1,
      "metadata": {},
      "outputs": [
        {
          "data": {
            "text/html": "<div>\n<style scoped>\n    .dataframe tbody tr th:only-of-type {\n        vertical-align: middle;\n    }\n\n    .dataframe tbody tr th {\n        vertical-align: top;\n    }\n\n    .dataframe thead th {\n        text-align: right;\n    }\n</style>\n<table border=\"1\" class=\"dataframe\">\n  <thead>\n    <tr style=\"text-align: right;\">\n      <th></th>\n      <th>show_id</th>\n      <th>title</th>\n      <th>director</th>\n      <th>cast</th>\n      <th>country</th>\n      <th>date_added</th>\n      <th>release_year</th>\n      <th>rating</th>\n      <th>duration</th>\n      <th>listed_in</th>\n      <th>description</th>\n      <th>type</th>\n    </tr>\n  </thead>\n  <tbody>\n    <tr>\n      <td>0</td>\n      <td>81193313</td>\n      <td>Chocolate</td>\n      <td>NaN</td>\n      <td>Ha Ji-won, Yoon Kye-sang, Jang Seung-jo, Kang ...</td>\n      <td>South Korea</td>\n      <td>November 30, 2019</td>\n      <td>2019</td>\n      <td>TV-14</td>\n      <td>1 Season</td>\n      <td>International TV Shows, Korean TV Shows, Roman...</td>\n      <td>Brought together by meaningful meals in the pa...</td>\n      <td>TV Show</td>\n    </tr>\n    <tr>\n      <td>1</td>\n      <td>80213643</td>\n      <td>Chip and Potato</td>\n      <td>NaN</td>\n      <td>Abigail Oliver, Andrea Libman, Briana Buckmast...</td>\n      <td>Canada, United Kingdom</td>\n      <td>NaN</td>\n      <td>2019</td>\n      <td>TV-Y</td>\n      <td>2 Seasons</td>\n      <td>Kids' TV</td>\n      <td>Lovable pug Chip starts kindergarten, makes ne...</td>\n      <td>TV Show</td>\n    </tr>\n    <tr>\n      <td>2</td>\n      <td>70205672</td>\n      <td>La Reina del Sur</td>\n      <td>NaN</td>\n      <td>Kate del Castillo, Cristina Urgel, Alberto Jim...</td>\n      <td>United States, Spain, Colombia, Mexico</td>\n      <td>NaN</td>\n      <td>2019</td>\n      <td>TV-14</td>\n      <td>2 Seasons</td>\n      <td>Crime TV Shows, International TV Shows, Spanis...</td>\n      <td>This compelling show tells the story of the le...</td>\n      <td>TV Show</td>\n    </tr>\n    <tr>\n      <td>3</td>\n      <td>81094391</td>\n      <td>Sugar Rush Christmas</td>\n      <td>NaN</td>\n      <td>Hunter March, Candace Nelson, Adriano Zumbo</td>\n      <td>United States</td>\n      <td>November 29, 2019</td>\n      <td>2019</td>\n      <td>TV-PG</td>\n      <td>1 Season</td>\n      <td>Reality TV</td>\n      <td>It's everything you love about \"Sugar Rush\" – ...</td>\n      <td>TV Show</td>\n    </tr>\n  </tbody>\n</table>\n</div>",
            "text/plain": "    show_id                 title director  \\\n0  81193313             Chocolate      NaN   \n1  80213643       Chip and Potato      NaN   \n2  70205672      La Reina del Sur      NaN   \n3  81094391  Sugar Rush Christmas      NaN   \n\n                                                cast  \\\n0  Ha Ji-won, Yoon Kye-sang, Jang Seung-jo, Kang ...   \n1  Abigail Oliver, Andrea Libman, Briana Buckmast...   \n2  Kate del Castillo, Cristina Urgel, Alberto Jim...   \n3        Hunter March, Candace Nelson, Adriano Zumbo   \n\n                                  country         date_added  release_year  \\\n0                             South Korea  November 30, 2019          2019   \n1                  Canada, United Kingdom                NaN          2019   \n2  United States, Spain, Colombia, Mexico                NaN          2019   \n3                           United States  November 29, 2019          2019   \n\n  rating   duration                                          listed_in  \\\n0  TV-14   1 Season  International TV Shows, Korean TV Shows, Roman...   \n1   TV-Y  2 Seasons                                           Kids' TV   \n2  TV-14  2 Seasons  Crime TV Shows, International TV Shows, Spanis...   \n3  TV-PG   1 Season                                         Reality TV   \n\n                                         description     type  \n0  Brought together by meaningful meals in the pa...  TV Show  \n1  Lovable pug Chip starts kindergarten, makes ne...  TV Show  \n2  This compelling show tells the story of the le...  TV Show  \n3  It's everything you love about \"Sugar Rush\" – ...  TV Show  "
          },
          "execution_count": 1,
          "metadata": {},
          "output_type": "execute_result"
        }
      ],
      "source": [
        "import pandas as pd\n",
        "import numpy as np\n",
        "\n",
        "tv_shows_df = pd.read_csv(\"./data/netflix_tv_shows.csv\")\n",
        "tv_shows_df.head(4)"
      ]
    },
    {
      "cell_type": "code",
      "execution_count": 2,
      "metadata": {},
      "outputs": [
        {
          "data": {
            "text/html": "<div>\n<style scoped>\n    .dataframe tbody tr th:only-of-type {\n        vertical-align: middle;\n    }\n\n    .dataframe tbody tr th {\n        vertical-align: top;\n    }\n\n    .dataframe thead th {\n        text-align: right;\n    }\n</style>\n<table border=\"1\" class=\"dataframe\">\n  <thead>\n    <tr style=\"text-align: right;\">\n      <th></th>\n      <th>title</th>\n      <th>director</th>\n      <th>cast</th>\n      <th>listed_in</th>\n      <th>description</th>\n    </tr>\n  </thead>\n  <tbody>\n    <tr>\n      <td>0</td>\n      <td>Chocolate</td>\n      <td>NaN</td>\n      <td>Ha Ji-won, Yoon Kye-sang, Jang Seung-jo, Kang ...</td>\n      <td>International TV Shows, Korean TV Shows, Roman...</td>\n      <td>Brought together by meaningful meals in the pa...</td>\n    </tr>\n    <tr>\n      <td>1</td>\n      <td>Chip and Potato</td>\n      <td>NaN</td>\n      <td>Abigail Oliver, Andrea Libman, Briana Buckmast...</td>\n      <td>Kids' TV</td>\n      <td>Lovable pug Chip starts kindergarten, makes ne...</td>\n    </tr>\n    <tr>\n      <td>2</td>\n      <td>La Reina del Sur</td>\n      <td>NaN</td>\n      <td>Kate del Castillo, Cristina Urgel, Alberto Jim...</td>\n      <td>Crime TV Shows, International TV Shows, Spanis...</td>\n      <td>This compelling show tells the story of the le...</td>\n    </tr>\n    <tr>\n      <td>3</td>\n      <td>Sugar Rush Christmas</td>\n      <td>NaN</td>\n      <td>Hunter March, Candace Nelson, Adriano Zumbo</td>\n      <td>Reality TV</td>\n      <td>It's everything you love about \"Sugar Rush\" – ...</td>\n    </tr>\n    <tr>\n      <td>4</td>\n      <td>The Charming Stepmom</td>\n      <td>NaN</td>\n      <td>Shahkrit Yamnarm, View Wannarot Sontichai, Kri...</td>\n      <td>International TV Shows, Romantic TV Shows, TV ...</td>\n      <td>A quirky fashion student becomes the nanny of ...</td>\n    </tr>\n  </tbody>\n</table>\n</div>",
            "text/plain": "                  title director  \\\n0             Chocolate      NaN   \n1       Chip and Potato      NaN   \n2      La Reina del Sur      NaN   \n3  Sugar Rush Christmas      NaN   \n4  The Charming Stepmom      NaN   \n\n                                                cast  \\\n0  Ha Ji-won, Yoon Kye-sang, Jang Seung-jo, Kang ...   \n1  Abigail Oliver, Andrea Libman, Briana Buckmast...   \n2  Kate del Castillo, Cristina Urgel, Alberto Jim...   \n3        Hunter March, Candace Nelson, Adriano Zumbo   \n4  Shahkrit Yamnarm, View Wannarot Sontichai, Kri...   \n\n                                           listed_in  \\\n0  International TV Shows, Korean TV Shows, Roman...   \n1                                           Kids' TV   \n2  Crime TV Shows, International TV Shows, Spanis...   \n3                                         Reality TV   \n4  International TV Shows, Romantic TV Shows, TV ...   \n\n                                         description  \n0  Brought together by meaningful meals in the pa...  \n1  Lovable pug Chip starts kindergarten, makes ne...  \n2  This compelling show tells the story of the le...  \n3  It's everything you love about \"Sugar Rush\" – ...  \n4  A quirky fashion student becomes the nanny of ...  "
          },
          "execution_count": 2,
          "metadata": {},
          "output_type": "execute_result"
        }
      ],
      "source": [
        "new_tv_shows_df = tv_shows_df[['title', 'director', 'cast', 'listed_in', 'description']]\n",
        "new_tv_shows_df.head()"
      ]
    },
    {
      "cell_type": "code",
      "execution_count": 3,
      "metadata": {},
      "outputs": [
        {
          "name": "stdout",
          "output_type": "stream",
          "text": "Requirement already satisfied: rake-nltk in c:\\programdata\\anaconda3\\lib\\site-packages (1.0.4)\nRequirement already satisfied: nltk in c:\\programdata\\anaconda3\\lib\\site-packages (from rake-nltk) (3.4.5)\nRequirement already satisfied: six in c:\\programdata\\anaconda3\\lib\\site-packages (from nltk->rake-nltk) (1.12.0)\n"
        }
      ],
      "source": [
        "!pip install rake-nltk\n",
        "from rake_nltk import Rake\n",
        "from sklearn.metrics.pairwise import cosine_similarity\n",
        "from sklearn.feature_extraction.text import CountVectorizer"
      ]
    },
    {
      "cell_type": "code",
      "execution_count": 4,
      "metadata": {},
      "outputs": [],
      "source": [
        "# REMOVE NaN VALUES AND EMPTY STRINGS:\n",
        "new_tv_shows_df.dropna(inplace=True)\n",
        "\n",
        "blanks = []\n",
        "\n",
        "cols = ['title', 'director', 'cast', 'listed_in', 'description']\n",
        "\n",
        "for i, col in new_tv_shows_df.iterrows():\n",
        "  if type(col) == str:\n",
        "    if col.isspace():\n",
        "      blanks.append(i)\n",
        "\n",
        "new_tv_shows_df.drop(blanks, inplace=True)"
      ]
    },
    {
      "cell_type": "code",
      "execution_count": 5,
      "metadata": {},
      "outputs": [],
      "source": [
        "# Initializing a new column\n",
        "new_tv_shows_df['key_words'] = \"\"\n",
        "\n",
        "for index, row in new_tv_shows_df.iterrows():\n",
        "  description = row['description']\n",
        "\n",
        "  # instantiating Rake, by default it uses english stopwords from NLTK\n",
        "  # and discards all puntuation characters as well\n",
        "\n",
        "  r = Rake()\n",
        "  \n",
        "  # extracting the words by passing the text\n",
        "  r.extract_keywords_from_text(description)\n",
        "\n",
        "  # getting the dictionary whith key words as keys and their scores as values\n",
        "  key_words_dict_scores = r.get_word_degrees()\n",
        "\n",
        "  # assigning the key words to the new column for the corresponding movie\n",
        "  row['key_words'] = list(key_words_dict_scores.keys())\n",
        "\n",
        "# dropping the Plot column\n",
        "new_tv_shows_df.drop(columns = ['description'], inplace = True)\n"
      ]
    },
    {
      "cell_type": "code",
      "execution_count": 6,
      "metadata": {},
      "outputs": [],
      "source": [
        "# discarding the commas between the actors' full names and getting only the first three names\n",
        "new_tv_shows_df['cast'] = new_tv_shows_df['cast'].map(lambda x: x.split(',')[:3])\n",
        "\n",
        "# putting the genres in a list of words\n",
        "new_tv_shows_df['listed_in'] = new_tv_shows_df['listed_in'].map(lambda x: x.lower().split(','))\n",
        "\n",
        "new_tv_shows_df['director'] = new_tv_shows_df['director'].map(lambda x: x.split(' '))\n",
        "\n",
        "# merging together first and last name for each actor and director, so it's considered as one word \n",
        "# and there is no mix up between people sharing a first name\n",
        "for index, row in new_tv_shows_df.iterrows():\n",
        "    row['cast'] = [x.lower().replace(' ','') for x in row['cast']]\n",
        "    row['director'] = ''.join(row['director']).lower()"
      ]
    },
    {
      "cell_type": "code",
      "execution_count": 7,
      "metadata": {},
      "outputs": [
        {
          "data": {
            "text/html": "<div>\n<style scoped>\n    .dataframe tbody tr th:only-of-type {\n        vertical-align: middle;\n    }\n\n    .dataframe tbody tr th {\n        vertical-align: top;\n    }\n\n    .dataframe thead th {\n        text-align: right;\n    }\n</style>\n<table border=\"1\" class=\"dataframe\">\n  <thead>\n    <tr style=\"text-align: right;\">\n      <th></th>\n      <th>director</th>\n      <th>cast</th>\n      <th>listed_in</th>\n      <th>key_words</th>\n    </tr>\n    <tr>\n      <th>title</th>\n      <th></th>\n      <th></th>\n      <th></th>\n      <th></th>\n    </tr>\n  </thead>\n  <tbody>\n    <tr>\n      <td>Mars</td>\n      <td>everardogout</td>\n      <td>[jihae, albertoammann, clémentinepoidatz]</td>\n      <td>[docuseries,  science &amp; nature tv,  tv dramas]</td>\n      <td>[spacecraft, crew, mission, fact, meets, ficti...</td>\n    </tr>\n    <tr>\n      <td>Nowhere Man</td>\n      <td>djchen</td>\n      <td>[alyssachia, mavisfan, josephchang]</td>\n      <td>[crime tv shows,  international tv shows,  tv ...</td>\n      <td>[two, nefarious, schemes, taking, place, 10, y...</td>\n    </tr>\n    <tr>\n      <td>Bring It On, Ghost</td>\n      <td>parkjoon-hwa</td>\n      <td>[taecyeon, kimso-hyun, kwonyul]</td>\n      <td>[international tv shows,  korean tv shows,  ro...</td>\n      <td>[roommate, –, college, student, hunt, spooky, ...</td>\n    </tr>\n    <tr>\n      <td>Black Money Love</td>\n      <td>ahmetkatıksız</td>\n      <td>[gülerökten, hazaltüresan, i̇lkintüfekçi]</td>\n      <td>[crime tv shows,  international tv shows,  tv ...</td>\n      <td>[jewelry, designer, found, dead, together, cop...</td>\n    </tr>\n    <tr>\n      <td>Cheese in the Trap</td>\n      <td>leeyoon-jung</td>\n      <td>[parkhae-jin, kimgo-eun, seokang-jun]</td>\n      <td>[international tv shows,  korean tv shows,  ro...</td>\n      <td>[attention, navigate, college, life, gains, da...</td>\n    </tr>\n  </tbody>\n</table>\n</div>",
            "text/plain": "                         director                                       cast  \\\ntitle                                                                          \nMars                 everardogout  [jihae, albertoammann, clémentinepoidatz]   \nNowhere Man                djchen        [alyssachia, mavisfan, josephchang]   \nBring It On, Ghost   parkjoon-hwa            [taecyeon, kimso-hyun, kwonyul]   \nBlack Money Love    ahmetkatıksız  [gülerökten, hazaltüresan, i̇lkintüfekçi]   \nCheese in the Trap   leeyoon-jung      [parkhae-jin, kimgo-eun, seokang-jun]   \n\n                                                            listed_in  \\\ntitle                                                                   \nMars                   [docuseries,  science & nature tv,  tv dramas]   \nNowhere Man         [crime tv shows,  international tv shows,  tv ...   \nBring It On, Ghost  [international tv shows,  korean tv shows,  ro...   \nBlack Money Love    [crime tv shows,  international tv shows,  tv ...   \nCheese in the Trap  [international tv shows,  korean tv shows,  ro...   \n\n                                                            key_words  \ntitle                                                                  \nMars                [spacecraft, crew, mission, fact, meets, ficti...  \nNowhere Man         [two, nefarious, schemes, taking, place, 10, y...  \nBring It On, Ghost  [roommate, –, college, student, hunt, spooky, ...  \nBlack Money Love    [jewelry, designer, found, dead, together, cop...  \nCheese in the Trap  [attention, navigate, college, life, gains, da...  "
          },
          "execution_count": 7,
          "metadata": {},
          "output_type": "execute_result"
        }
      ],
      "source": [
        "\n",
        "new_tv_shows_df.set_index('title', inplace = True)\n",
        "new_tv_shows_df.head()"
      ]
    },
    {
      "cell_type": "code",
      "execution_count": 8,
      "metadata": {},
      "outputs": [],
      "source": [
        "new_tv_shows_df['bag_of_words'] = ''\n",
        "columns = new_tv_shows_df.columns\n",
        "for index, row in new_tv_shows_df.iterrows():\n",
        "    words = ''\n",
        "    for col in columns:\n",
        "        if col != 'director':\n",
        "            words = words + ' '.join(row[col])+ ' '\n",
        "        else:\n",
        "            words = words + row[col]+ ' '\n",
        "    row['bag_of_words'] = words\n",
        "    \n",
        "new_tv_shows_df.drop(columns = [col for col in new_tv_shows_df.columns if col!= 'bag_of_words' and col != 'type'], inplace = True)\n"
      ]
    },
    {
      "cell_type": "code",
      "execution_count": 13,
      "metadata": {},
      "outputs": [
        {
          "data": {
            "text/html": "<div>\n<style scoped>\n    .dataframe tbody tr th:only-of-type {\n        vertical-align: middle;\n    }\n\n    .dataframe tbody tr th {\n        vertical-align: top;\n    }\n\n    .dataframe thead th {\n        text-align: right;\n    }\n</style>\n<table border=\"1\" class=\"dataframe\">\n  <thead>\n    <tr style=\"text-align: right;\">\n      <th></th>\n      <th>bag_of_words</th>\n    </tr>\n    <tr>\n      <th>title</th>\n      <th></th>\n    </tr>\n  </thead>\n  <tbody>\n    <tr>\n      <td>Mars</td>\n      <td>everardogout jihae albertoammann clémentinepoi...</td>\n    </tr>\n    <tr>\n      <td>Nowhere Man</td>\n      <td>djchen alyssachia mavisfan josephchang crime t...</td>\n    </tr>\n    <tr>\n      <td>Bring It On, Ghost</td>\n      <td>parkjoon-hwa taecyeon kimso-hyun kwonyul inter...</td>\n    </tr>\n    <tr>\n      <td>Black Money Love</td>\n      <td>ahmetkatıksız gülerökten hazaltüresan i̇lkintü...</td>\n    </tr>\n    <tr>\n      <td>Cheese in the Trap</td>\n      <td>leeyoon-jung parkhae-jin kimgo-eun seokang-jun...</td>\n    </tr>\n  </tbody>\n</table>\n</div>",
            "text/plain": "                                                         bag_of_words\ntitle                                                                \nMars                everardogout jihae albertoammann clémentinepoi...\nNowhere Man         djchen alyssachia mavisfan josephchang crime t...\nBring It On, Ghost  parkjoon-hwa taecyeon kimso-hyun kwonyul inter...\nBlack Money Love    ahmetkatıksız gülerökten hazaltüresan i̇lkintü...\nCheese in the Trap  leeyoon-jung parkhae-jin kimgo-eun seokang-jun..."
          },
          "execution_count": 13,
          "metadata": {},
          "output_type": "execute_result"
        }
      ],
      "source": [
        "new_tv_shows_df.head()"
      ]
    },
    {
      "cell_type": "markdown",
      "metadata": {
        "colab_type": "text",
        "id": "Ygb2m3bhPx88"
      },
      "source": [
        "***Feature Extraction and Modelling***"
      ]
    },
    {
      "cell_type": "code",
      "execution_count": 9,
      "metadata": {},
      "outputs": [
        {
          "data": {
            "text/plain": "50              Bobby Kennedy for President\n51                             Father Brown\n52    Th Eena Meena Deeka Chase Comedy Show\n53                James Acaster: Repertoire\n54                                 A.I.C.O.\n55                         Brave Miss World\n56                         Revolting Rhymes\n57                                 Godzilla\n58                         Devilman Crybaby\n59         Fullmetal Alchemist: Brotherhood\nName: title, dtype: object"
          },
          "execution_count": 9,
          "metadata": {},
          "output_type": "execute_result"
        }
      ],
      "source": [
        "# instantiating and generating the count matrix\n",
        "count = CountVectorizer()\n",
        "count_matrix = count.fit_transform(new_tv_shows_df['bag_of_words'])\n",
        "\n",
        "# creating a Series for the movie titles so they are associated to an ordered numerical\n",
        "# list I will use later to match the indexes\n",
        "indices = pd.Series(new_tv_shows_df.index)\n",
        "indices[50:60]"
      ]
    },
    {
      "cell_type": "code",
      "execution_count": 10,
      "metadata": {},
      "outputs": [
        {
          "data": {
            "text/plain": "array([[1.        , 0.18842229, 0.1860521 , ..., 0.19611614, 0.24535825,\n        0.25745831],\n       [0.18842229, 1.        , 0.40509575, ..., 0.35228194, 0.36727931,\n        0.44378474],\n       [0.1860521 , 0.40509575, 1.        , ..., 0.4110961 , 0.42859731,\n        0.43820232],\n       ...,\n       [0.19611614, 0.35228194, 0.4110961 , ..., 1.        , 0.54213748,\n        0.37924898],\n       [0.24535825, 0.36727931, 0.42859731, ..., 0.54213748, 1.        ,\n        0.42580935],\n       [0.25745831, 0.44378474, 0.43820232, ..., 0.37924898, 0.42580935,\n        1.        ]])"
          },
          "execution_count": 10,
          "metadata": {},
          "output_type": "execute_result"
        }
      ],
      "source": [
        "# generating the cosine similarity matrix\n",
        "cosine_sim = cosine_similarity(count_matrix, count_matrix)\n",
        "cosine_sim"
      ]
    },
    {
      "cell_type": "code",
      "execution_count": 11,
      "metadata": {},
      "outputs": [],
      "source": [
        "# function that takes in movie title as input and returns the top 10 recommended movies\n",
        "def tv_shows_recommendations(Title, cosine_sim = cosine_sim):\n",
        "    \n",
        "    recommended_tv_shows = []\n",
        "    \n",
        "    # gettin the index of the movie that matches the title\n",
        "    idx = indices[indices == Title].index[0]\n",
        "\n",
        "    # creating a Series with the similarity scores in descending order\n",
        "    score_series = pd.Series(cosine_sim[idx]).sort_values(ascending = False)\n",
        "\n",
        "    # getting the indexes of the 10 most similar movies\n",
        "    top_10_indexes = list(score_series.iloc[1:11].index)\n",
        "    \n",
        "    # populating the list with the titles of the best 10 matching movies\n",
        "    for i in top_10_indexes:\n",
        "        recommended_tv_shows.append(list(new_tv_shows_df.index)[i])\n",
        "        \n",
        "    return recommended_tv_shows"
      ]
    },
    {
      "cell_type": "markdown",
      "metadata": {},
      "source": [
        "GET RECOMMENDATIONS FOR A MOVIE"
      ]
    },
    {
      "cell_type": "code",
      "execution_count": 12,
      "metadata": {},
      "outputs": [
        {
          "data": {
            "text/plain": "['Nowhere Man',\n 'Mr. Sunshine',\n 'London Spy',\n 'Reply 1994',\n 'Reply 1997',\n 'Leyla and Mecnun',\n 'The Five',\n 'Justice',\n 'Age of Rebellion',\n 'Velvet']"
          },
          "execution_count": 12,
          "metadata": {},
          "output_type": "execute_result"
        }
      ],
      "source": [
        "tv_shows_recommendations('Godzilla')"
      ]
    },
    {
      "cell_type": "code",
      "execution_count": 14,
      "metadata": {},
      "outputs": [
        {
          "data": {
            "text/plain": "['Old Money',\n 'Jack Taylor',\n 'Justice',\n 'London Spy',\n 'Sacred Games',\n 'Innocent',\n 'Call the Midwife',\n 'Criminal: Spain',\n 'Sadqay Tumhare',\n 'Bitter Daisies']"
          },
          "execution_count": 14,
          "metadata": {},
          "output_type": "execute_result"
        }
      ],
      "source": [
        "tv_shows_recommendations('GHOUL')"
      ]
    }
  ]
}