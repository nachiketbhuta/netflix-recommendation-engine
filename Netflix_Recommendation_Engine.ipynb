= {
  "nbformat": 4,
  "nbformat_minor": 0,
  "metadata": {
    "colab": {
      "name": "Netflix Recommendation Engine.ipynb",
      "provenance": [],
      "collapsed_sections": []
    },
    "kernelspec": {
      "name": "python3",
      "display_name": "Python 3"
    }
  },
  "cells": [
    {
      "cell_type": "markdown",
      "metadata": {
        "id": "DYPsckIAM6Q3",
        "colab_type": "text"
      },
      "source": [
        "**RECOMMENDATION USING NATURAL LANGUAGE PROCESSING AND COSINE SIMILARITY**"
      ]
    },
    {
      "cell_type": "code",
      "metadata": {
        "id": "iED2ri3GM57i",
        "colab_type": "code",
        "colab": {
          "base_uri": "https://localhost:8080/",
          "height": 584
        },
        "outputId": "663065f8-dad6-44ba-f7c2-8419751dbcb1"
      },
      "source": [
        "import pandas as pd\n",
        "import numpy as np\n",
        "\n",
        "df = pd.read_csv(\"./data/netflix_titles.csv\")\n",
        "df.head(4)"
      ],
      "execution_count": 79,
      "outputs": [
        {
          "output_type": "execute_result",
          "data": {
            "text/html": [
              "<div>\n",
              "<style scoped>\n",
              "    .dataframe tbody tr th:only-of-type {\n",
              "        vertical-align: middle;\n",
              "    }\n",
              "\n",
              "    .dataframe tbody tr th {\n",
              "        vertical-align: top;\n",
              "    }\n",
              "\n",
              "    .dataframe thead th {\n",
              "        text-align: right;\n",
              "    }\n",
              "</style>\n",
              "<table border=\"1\" class=\"dataframe\">\n",
              "  <thead>\n",
              "    <tr style=\"text-align: right;\">\n",
              "      <th></th>\n",
              "      <th>show_id</th>\n",
              "      <th>title</th>\n",
              "      <th>director</th>\n",
              "      <th>cast</th>\n",
              "      <th>country</th>\n",
              "      <th>date_added</th>\n",
              "      <th>release_year</th>\n",
              "      <th>rating</th>\n",
              "      <th>duration</th>\n",
              "      <th>listed_in</th>\n",
              "      <th>description</th>\n",
              "      <th>type</th>\n",
              "    </tr>\n",
              "  </thead>\n",
              "  <tbody>\n",
              "    <tr>\n",
              "      <th>0</th>\n",
              "      <td>81193313</td>\n",
              "      <td>Chocolate</td>\n",
              "      <td>NaN</td>\n",
              "      <td>Ha Ji-won, Yoon Kye-sang, Jang Seung-jo, Kang ...</td>\n",
              "      <td>South Korea</td>\n",
              "      <td>November 30, 2019</td>\n",
              "      <td>2019</td>\n",
              "      <td>TV-14</td>\n",
              "      <td>1 Season</td>\n",
              "      <td>International TV Shows, Korean TV Shows, Roman...</td>\n",
              "      <td>Brought together by meaningful meals in the pa...</td>\n",
              "      <td>TV Show</td>\n",
              "    </tr>\n",
              "    <tr>\n",
              "      <th>1</th>\n",
              "      <td>81197050</td>\n",
              "      <td>Guatemala: Heart of the Mayan World</td>\n",
              "      <td>Luis Ara, Ignacio Jaunsolo</td>\n",
              "      <td>Christian Morales</td>\n",
              "      <td>NaN</td>\n",
              "      <td>November 30, 2019</td>\n",
              "      <td>2019</td>\n",
              "      <td>TV-G</td>\n",
              "      <td>67 min</td>\n",
              "      <td>Documentaries, International Movies</td>\n",
              "      <td>From Sierra de las Minas to Esquipulas, explor...</td>\n",
              "      <td>Movie</td>\n",
              "    </tr>\n",
              "    <tr>\n",
              "      <th>2</th>\n",
              "      <td>81213894</td>\n",
              "      <td>The Zoya Factor</td>\n",
              "      <td>Abhishek Sharma</td>\n",
              "      <td>Sonam Kapoor, Dulquer Salmaan, Sanjay Kapoor, ...</td>\n",
              "      <td>India</td>\n",
              "      <td>November 30, 2019</td>\n",
              "      <td>2019</td>\n",
              "      <td>TV-14</td>\n",
              "      <td>135 min</td>\n",
              "      <td>Comedies, Dramas, International Movies</td>\n",
              "      <td>A goofy copywriter unwittingly convinces the I...</td>\n",
              "      <td>Movie</td>\n",
              "    </tr>\n",
              "    <tr>\n",
              "      <th>3</th>\n",
              "      <td>81082007</td>\n",
              "      <td>Atlantics</td>\n",
              "      <td>Mati Diop</td>\n",
              "      <td>Mama Sane, Amadou Mbow, Ibrahima Traore, Nicol...</td>\n",
              "      <td>France, Senegal, Belgium</td>\n",
              "      <td>November 29, 2019</td>\n",
              "      <td>2019</td>\n",
              "      <td>TV-14</td>\n",
              "      <td>106 min</td>\n",
              "      <td>Dramas, Independent Movies, International Movies</td>\n",
              "      <td>Arranged to marry a rich man, young Ada is cru...</td>\n",
              "      <td>Movie</td>\n",
              "    </tr>\n",
              "  </tbody>\n",
              "</table>\n",
              "</div>"
            ],
            "text/plain": [
              "    show_id  ...     type\n",
              "0  81193313  ...  TV Show\n",
              "1  81197050  ...    Movie\n",
              "2  81213894  ...    Movie\n",
              "3  81082007  ...    Movie\n",
              "\n",
              "[4 rows x 12 columns]"
            ]
          },
          "metadata": {
            "tags": []
          },
          "execution_count": 79
        }
      ]
    },
    {
      "cell_type": "code",
      "metadata": {
        "id": "4Ij40BroNhc-",
        "colab_type": "code",
        "colab": {
          "base_uri": "https://localhost:8080/",
          "height": 357
        },
        "outputId": "bf46d639-c74c-4688-ae20-e3ed0751507d"
      },
      "source": [
        "new_df = df[['title', 'director', 'cast', 'listed_in', 'description', 'type']]\n",
        "new_df.head()"
      ],
      "execution_count": 80,
      "outputs": [
        {
          "output_type": "execute_result",
          "data": {
            "text/html": [
              "<div>\n",
              "<style scoped>\n",
              "    .dataframe tbody tr th:only-of-type {\n",
              "        vertical-align: middle;\n",
              "    }\n",
              "\n",
              "    .dataframe tbody tr th {\n",
              "        vertical-align: top;\n",
              "    }\n",
              "\n",
              "    .dataframe thead th {\n",
              "        text-align: right;\n",
              "    }\n",
              "</style>\n",
              "<table border=\"1\" class=\"dataframe\">\n",
              "  <thead>\n",
              "    <tr style=\"text-align: right;\">\n",
              "      <th></th>\n",
              "      <th>title</th>\n",
              "      <th>director</th>\n",
              "      <th>cast</th>\n",
              "      <th>listed_in</th>\n",
              "      <th>description</th>\n",
              "      <th>type</th>\n",
              "    </tr>\n",
              "  </thead>\n",
              "  <tbody>\n",
              "    <tr>\n",
              "      <th>0</th>\n",
              "      <td>Chocolate</td>\n",
              "      <td>NaN</td>\n",
              "      <td>Ha Ji-won, Yoon Kye-sang, Jang Seung-jo, Kang ...</td>\n",
              "      <td>International TV Shows, Korean TV Shows, Roman...</td>\n",
              "      <td>Brought together by meaningful meals in the pa...</td>\n",
              "      <td>TV Show</td>\n",
              "    </tr>\n",
              "    <tr>\n",
              "      <th>1</th>\n",
              "      <td>Guatemala: Heart of the Mayan World</td>\n",
              "      <td>Luis Ara, Ignacio Jaunsolo</td>\n",
              "      <td>Christian Morales</td>\n",
              "      <td>Documentaries, International Movies</td>\n",
              "      <td>From Sierra de las Minas to Esquipulas, explor...</td>\n",
              "      <td>Movie</td>\n",
              "    </tr>\n",
              "    <tr>\n",
              "      <th>2</th>\n",
              "      <td>The Zoya Factor</td>\n",
              "      <td>Abhishek Sharma</td>\n",
              "      <td>Sonam Kapoor, Dulquer Salmaan, Sanjay Kapoor, ...</td>\n",
              "      <td>Comedies, Dramas, International Movies</td>\n",
              "      <td>A goofy copywriter unwittingly convinces the I...</td>\n",
              "      <td>Movie</td>\n",
              "    </tr>\n",
              "    <tr>\n",
              "      <th>3</th>\n",
              "      <td>Atlantics</td>\n",
              "      <td>Mati Diop</td>\n",
              "      <td>Mama Sane, Amadou Mbow, Ibrahima Traore, Nicol...</td>\n",
              "      <td>Dramas, Independent Movies, International Movies</td>\n",
              "      <td>Arranged to marry a rich man, young Ada is cru...</td>\n",
              "      <td>Movie</td>\n",
              "    </tr>\n",
              "    <tr>\n",
              "      <th>4</th>\n",
              "      <td>Chip and Potato</td>\n",
              "      <td>NaN</td>\n",
              "      <td>Abigail Oliver, Andrea Libman, Briana Buckmast...</td>\n",
              "      <td>Kids' TV</td>\n",
              "      <td>Lovable pug Chip starts kindergarten, makes ne...</td>\n",
              "      <td>TV Show</td>\n",
              "    </tr>\n",
              "  </tbody>\n",
              "</table>\n",
              "</div>"
            ],
            "text/plain": [
              "                                 title  ...     type\n",
              "0                            Chocolate  ...  TV Show\n",
              "1  Guatemala: Heart of the Mayan World  ...    Movie\n",
              "2                      The Zoya Factor  ...    Movie\n",
              "3                            Atlantics  ...    Movie\n",
              "4                      Chip and Potato  ...  TV Show\n",
              "\n",
              "[5 rows x 6 columns]"
            ]
          },
          "metadata": {
            "tags": []
          },
          "execution_count": 80
        }
      ]
    },
    {
      "cell_type": "code",
      "metadata": {
        "id": "B0TX7TAnN63F",
        "colab_type": "code",
        "colab": {
          "base_uri": "https://localhost:8080/",
          "height": 68
        },
        "outputId": "0b8141f6-003c-418d-ff5c-449127c68bc2"
      },
      "source": [
        "!pip install rake-nltk\n",
        "from rake_nltk import Rake\n",
        "from sklearn.metrics.pairwise import cosine_similarity\n",
        "from sklearn.feature_extraction.text import CountVectorizer"
      ],
      "execution_count": 81,
      "outputs": [
        {
          "output_type": "stream",
          "text": [
            "Requirement already satisfied: rake-nltk in /usr/local/lib/python3.6/dist-packages (1.0.4)\n",
            "Requirement already satisfied: nltk in /usr/local/lib/python3.6/dist-packages (from rake-nltk) (3.2.5)\n",
            "Requirement already satisfied: six in /usr/local/lib/python3.6/dist-packages (from nltk->rake-nltk) (1.12.0)\n"
          ],
          "name": "stdout"
        }
      ]
    },
    {
      "cell_type": "code",
      "metadata": {
        "id": "lcQGii7DN-jf",
        "colab_type": "code",
        "colab": {
          "base_uri": "https://localhost:8080/",
          "height": 207
        },
        "outputId": "623e2a7f-3841-4afa-fae6-b4c109ea4864"
      },
      "source": [
        "# REMOVE NaN VALUES AND EMPTY STRINGS:\n",
        "new_df.dropna(inplace=True)\n",
        "\n",
        "blanks = []\n",
        "\n",
        "cols = ['title', 'director', 'cast', 'listed_in', 'description']\n",
        "\n",
        "for i, col in new_df.iterrows():\n",
        "  if type(col) == str:\n",
        "    if col.isspace():\n",
        "      blanks.append(i)\n",
        "\n",
        "new_df.drop(blanks, inplace=True)"
      ],
      "execution_count": 82,
      "outputs": [
        {
          "output_type": "stream",
          "text": [
            "/usr/local/lib/python3.6/dist-packages/ipykernel_launcher.py:1: SettingWithCopyWarning: \n",
            "A value is trying to be set on a copy of a slice from a DataFrame\n",
            "\n",
            "See the caveats in the documentation: http://pandas.pydata.org/pandas-docs/stable/user_guide/indexing.html#returning-a-view-versus-a-copy\n",
            "  \"\"\"Entry point for launching an IPython kernel.\n",
            "/usr/local/lib/python3.6/dist-packages/pandas/core/frame.py:4117: SettingWithCopyWarning: \n",
            "A value is trying to be set on a copy of a slice from a DataFrame\n",
            "\n",
            "See the caveats in the documentation: http://pandas.pydata.org/pandas-docs/stable/user_guide/indexing.html#returning-a-view-versus-a-copy\n",
            "  errors=errors,\n"
          ],
          "name": "stderr"
        }
      ]
    },
    {
      "cell_type": "code",
      "metadata": {
        "id": "yZiupQCROT8q",
        "colab_type": "code",
        "colab": {
          "base_uri": "https://localhost:8080/",
          "height": 224
        },
        "outputId": "e577653a-e12d-4fa3-9b20-3d8883dde618"
      },
      "source": [
        "# Initializing a new column\n",
        "new_df['key_words'] = \"\"\n",
        "\n",
        "for index, row in new_df.iterrows():\n",
        "  description = row['description']\n",
        "\n",
        "  # instantiating Rake, by default it uses english stopwords from NLTK\n",
        "  # and discards all puntuation characters as well\n",
        "\n",
        "  r = Rake()\n",
        "  \n",
        "  # extracting the words by passing the text\n",
        "  r.extract_keywords_from_text(description)\n",
        "\n",
        "  # getting the dictionary whith key words as keys and their scores as values\n",
        "  key_words_dict_scores = r.get_word_degrees()\n",
        "\n",
        "  # assigning the key words to the new column for the corresponding movie\n",
        "  row['key_words'] = list(key_words_dict_scores.keys())\n",
        "\n",
        "# dropping the Plot column\n",
        "new_df.drop(columns = ['description'], inplace = True)\n"
      ],
      "execution_count": 83,
      "outputs": [
        {
          "output_type": "stream",
          "text": [
            "/usr/local/lib/python3.6/dist-packages/ipykernel_launcher.py:1: SettingWithCopyWarning: \n",
            "A value is trying to be set on a copy of a slice from a DataFrame.\n",
            "Try using .loc[row_indexer,col_indexer] = value instead\n",
            "\n",
            "See the caveats in the documentation: http://pandas.pydata.org/pandas-docs/stable/user_guide/indexing.html#returning-a-view-versus-a-copy\n",
            "  \"\"\"Entry point for launching an IPython kernel.\n",
            "/usr/local/lib/python3.6/dist-packages/pandas/core/frame.py:4117: SettingWithCopyWarning: \n",
            "A value is trying to be set on a copy of a slice from a DataFrame\n",
            "\n",
            "See the caveats in the documentation: http://pandas.pydata.org/pandas-docs/stable/user_guide/indexing.html#returning-a-view-versus-a-copy\n",
            "  errors=errors,\n"
          ],
          "name": "stderr"
        }
      ]
    },
    {
      "cell_type": "code",
      "metadata": {
        "id": "WaYa6JNFPdh_",
        "colab_type": "code",
        "colab": {
          "base_uri": "https://localhost:8080/",
          "height": 343
        },
        "outputId": "d2102064-7efe-4ea2-a438-7e54501bc77b"
      },
      "source": [
        "# discarding the commas between the actors' full names and getting only the first three names\n",
        "new_df['cast'] = new_df['cast'].map(lambda x: x.split(',')[:3])\n",
        "\n",
        "# putting the genres in a list of words\n",
        "new_df['listed_in'] = new_df['listed_in'].map(lambda x: x.lower().split(','))\n",
        "\n",
        "new_df['director'] = new_df['director'].map(lambda x: x.split(' '))\n",
        "\n",
        "# merging together first and last name for each actor and director, so it's considered as one word \n",
        "# and there is no mix up between people sharing a first name\n",
        "for index, row in new_df.iterrows():\n",
        "    row['cast'] = [x.lower().replace(' ','') for x in row['cast']]\n",
        "    row['director'] = ''.join(row['director']).lower()"
      ],
      "execution_count": 84,
      "outputs": [
        {
          "output_type": "stream",
          "text": [
            "/usr/local/lib/python3.6/dist-packages/ipykernel_launcher.py:1: SettingWithCopyWarning: \n",
            "A value is trying to be set on a copy of a slice from a DataFrame.\n",
            "Try using .loc[row_indexer,col_indexer] = value instead\n",
            "\n",
            "See the caveats in the documentation: http://pandas.pydata.org/pandas-docs/stable/user_guide/indexing.html#returning-a-view-versus-a-copy\n",
            "  \"\"\"Entry point for launching an IPython kernel.\n",
            "/usr/local/lib/python3.6/dist-packages/ipykernel_launcher.py:4: SettingWithCopyWarning: \n",
            "A value is trying to be set on a copy of a slice from a DataFrame.\n",
            "Try using .loc[row_indexer,col_indexer] = value instead\n",
            "\n",
            "See the caveats in the documentation: http://pandas.pydata.org/pandas-docs/stable/user_guide/indexing.html#returning-a-view-versus-a-copy\n",
            "  after removing the cwd from sys.path.\n",
            "/usr/local/lib/python3.6/dist-packages/ipykernel_launcher.py:6: SettingWithCopyWarning: \n",
            "A value is trying to be set on a copy of a slice from a DataFrame.\n",
            "Try using .loc[row_indexer,col_indexer] = value instead\n",
            "\n",
            "See the caveats in the documentation: http://pandas.pydata.org/pandas-docs/stable/user_guide/indexing.html#returning-a-view-versus-a-copy\n",
            "  \n"
          ],
          "name": "stderr"
        }
      ]
    },
    {
      "cell_type": "code",
      "metadata": {
        "id": "K5NM1OFqPkBx",
        "colab_type": "code",
        "colab": {
          "base_uri": "https://localhost:8080/",
          "height": 320
        },
        "outputId": "0f9fb83e-e6f1-414e-e961-b4a301a5652b"
      },
      "source": [
        "\n",
        "new_df.set_index('title', inplace = True)\n",
        "new_df.head()"
      ],
      "execution_count": 85,
      "outputs": [
        {
          "output_type": "execute_result",
          "data": {
            "text/html": [
              "<div>\n",
              "<style scoped>\n",
              "    .dataframe tbody tr th:only-of-type {\n",
              "        vertical-align: middle;\n",
              "    }\n",
              "\n",
              "    .dataframe tbody tr th {\n",
              "        vertical-align: top;\n",
              "    }\n",
              "\n",
              "    .dataframe thead th {\n",
              "        text-align: right;\n",
              "    }\n",
              "</style>\n",
              "<table border=\"1\" class=\"dataframe\">\n",
              "  <thead>\n",
              "    <tr style=\"text-align: right;\">\n",
              "      <th></th>\n",
              "      <th>director</th>\n",
              "      <th>cast</th>\n",
              "      <th>listed_in</th>\n",
              "      <th>key_words</th>\n",
              "    </tr>\n",
              "    <tr>\n",
              "      <th>type</th>\n",
              "      <th></th>\n",
              "      <th></th>\n",
              "      <th></th>\n",
              "      <th></th>\n",
              "    </tr>\n",
              "  </thead>\n",
              "  <tbody>\n",
              "    <tr>\n",
              "      <th>Movie</th>\n",
              "      <td>luisara,ignaciojaunsolo</td>\n",
              "      <td>[christianmorales]</td>\n",
              "      <td>[documentaries,  international movies]</td>\n",
              "      <td>[sierra, de, las, minas, geological, wealth, e...</td>\n",
              "    </tr>\n",
              "    <tr>\n",
              "      <th>Movie</th>\n",
              "      <td>abhisheksharma</td>\n",
              "      <td>[sonamkapoor, dulquersalmaan, sanjaykapoor]</td>\n",
              "      <td>[comedies,  dramas,  international movies]</td>\n",
              "      <td>[indian, cricket, team, superstition, goofy, c...</td>\n",
              "    </tr>\n",
              "    <tr>\n",
              "      <th>Movie</th>\n",
              "      <td>matidiop</td>\n",
              "      <td>[mamasane, amadoumbow, ibrahimatraore]</td>\n",
              "      <td>[dramas,  independent movies,  international m...</td>\n",
              "      <td>[true, love, goes, missing, migration, attempt...</td>\n",
              "    </tr>\n",
              "    <tr>\n",
              "      <th>Movie</th>\n",
              "      <td>mosesinwang</td>\n",
              "      <td>[ramseynouah, chigul, solasobowale]</td>\n",
              "      <td>[comedies,  international movies,  thrillers]</td>\n",
              "      <td>[imposter, mental, institution, someone, expos...</td>\n",
              "    </tr>\n",
              "    <tr>\n",
              "      <th>Movie</th>\n",
              "      <td>jérémyclapin</td>\n",
              "      <td>[hakimfaris, victoiredubois, patrickd'assumçao]</td>\n",
              "      <td>[dramas,  independent movies,  international m...</td>\n",
              "      <td>[adventure, intertwine, owner, young, man, fal...</td>\n",
              "    </tr>\n",
              "  </tbody>\n",
              "</table>\n",
              "</div>"
            ],
            "text/plain": [
              "                      director  ...                                          key_words\n",
              "type                            ...                                                   \n",
              "Movie  luisara,ignaciojaunsolo  ...  [sierra, de, las, minas, geological, wealth, e...\n",
              "Movie           abhisheksharma  ...  [indian, cricket, team, superstition, goofy, c...\n",
              "Movie                 matidiop  ...  [true, love, goes, missing, migration, attempt...\n",
              "Movie              mosesinwang  ...  [imposter, mental, institution, someone, expos...\n",
              "Movie             jérémyclapin  ...  [adventure, intertwine, owner, young, man, fal...\n",
              "\n",
              "[5 rows x 4 columns]"
            ]
          },
          "metadata": {
            "tags": []
          },
          "execution_count": 85
        }
      ]
    },
    {
      "cell_type": "code",
      "metadata": {
        "id": "Pcicd8DJPmWC",
        "colab_type": "code",
        "colab": {
          "base_uri": "https://localhost:8080/",
          "height": 224
        },
        "outputId": "691af355-10cb-487f-fbd9-aa0d3e362068"
      },
      "source": [
        "new_df['bag_of_words'] = ''\n",
        "columns = new_df.columns\n",
        "for index, row in new_df.iterrows():\n",
        "    words = ''\n",
        "    for col in columns:\n",
        "        if col != 'director':\n",
        "            words = words + ' '.join(row[col])+ ' '\n",
        "        else:\n",
        "            words = words + row[col]+ ' '\n",
        "    row['bag_of_words'] = words\n",
        "    \n",
        "new_df.drop(columns = [col for col in new_df.columns if col!= 'bag_of_words' and col != 'type'], inplace = True)\n"
      ],
      "execution_count": 86,
      "outputs": [
        {
          "output_type": "stream",
          "text": [
            "/usr/local/lib/python3.6/dist-packages/ipykernel_launcher.py:1: SettingWithCopyWarning: \n",
            "A value is trying to be set on a copy of a slice from a DataFrame.\n",
            "Try using .loc[row_indexer,col_indexer] = value instead\n",
            "\n",
            "See the caveats in the documentation: http://pandas.pydata.org/pandas-docs/stable/user_guide/indexing.html#returning-a-view-versus-a-copy\n",
            "  \"\"\"Entry point for launching an IPython kernel.\n",
            "/usr/local/lib/python3.6/dist-packages/pandas/core/frame.py:4117: SettingWithCopyWarning: \n",
            "A value is trying to be set on a copy of a slice from a DataFrame\n",
            "\n",
            "See the caveats in the documentation: http://pandas.pydata.org/pandas-docs/stable/user_guide/indexing.html#returning-a-view-versus-a-copy\n",
            "  errors=errors,\n"
          ],
          "name": "stderr"
        }
      ]
    },
    {
      "cell_type": "code",
      "metadata": {
        "id": "MdKpEiznPq4t",
        "colab_type": "code",
        "colab": {
          "base_uri": "https://localhost:8080/",
          "height": 235
        },
        "outputId": "56cae180-aa65-4715-fc94-7759cb582330"
      },
      "source": [
        "new_df.head()"
      ],
      "execution_count": 87,
      "outputs": [
        {
          "output_type": "execute_result",
          "data": {
            "text/html": [
              "<div>\n",
              "<style scoped>\n",
              "    .dataframe tbody tr th:only-of-type {\n",
              "        vertical-align: middle;\n",
              "    }\n",
              "\n",
              "    .dataframe tbody tr th {\n",
              "        vertical-align: top;\n",
              "    }\n",
              "\n",
              "    .dataframe thead th {\n",
              "        text-align: right;\n",
              "    }\n",
              "</style>\n",
              "<table border=\"1\" class=\"dataframe\">\n",
              "  <thead>\n",
              "    <tr style=\"text-align: right;\">\n",
              "      <th></th>\n",
              "      <th>bag_of_words</th>\n",
              "    </tr>\n",
              "    <tr>\n",
              "      <th>type</th>\n",
              "      <th></th>\n",
              "    </tr>\n",
              "  </thead>\n",
              "  <tbody>\n",
              "    <tr>\n",
              "      <th>Movie</th>\n",
              "      <td>luisara,ignaciojaunsolo christianmorales docum...</td>\n",
              "    </tr>\n",
              "    <tr>\n",
              "      <th>Movie</th>\n",
              "      <td>abhisheksharma sonamkapoor dulquersalmaan sanj...</td>\n",
              "    </tr>\n",
              "    <tr>\n",
              "      <th>Movie</th>\n",
              "      <td>matidiop mamasane amadoumbow ibrahimatraore dr...</td>\n",
              "    </tr>\n",
              "    <tr>\n",
              "      <th>Movie</th>\n",
              "      <td>mosesinwang ramseynouah chigul solasobowale co...</td>\n",
              "    </tr>\n",
              "    <tr>\n",
              "      <th>Movie</th>\n",
              "      <td>jérémyclapin hakimfaris victoiredubois patrick...</td>\n",
              "    </tr>\n",
              "  </tbody>\n",
              "</table>\n",
              "</div>"
            ],
            "text/plain": [
              "                                            bag_of_words\n",
              "type                                                    \n",
              "Movie  luisara,ignaciojaunsolo christianmorales docum...\n",
              "Movie  abhisheksharma sonamkapoor dulquersalmaan sanj...\n",
              "Movie  matidiop mamasane amadoumbow ibrahimatraore dr...\n",
              "Movie  mosesinwang ramseynouah chigul solasobowale co...\n",
              "Movie  jérémyclapin hakimfaris victoiredubois patrick..."
            ]
          },
          "metadata": {
            "tags": []
          },
          "execution_count": 87
        }
      ]
    },
    {
      "cell_type": "markdown",
      "metadata": {
        "id": "Ygb2m3bhPx88",
        "colab_type": "text"
      },
      "source": [
        "***Feature Extraction and Modelling***"
      ]
    },
    {
      "cell_type": "code",
      "metadata": {
        "id": "t_8FmCMqPuP9",
        "colab_type": "code",
        "colab": {
          "base_uri": "https://localhost:8080/",
          "height": 119
        },
        "outputId": "ec5b93d0-933b-447f-a3d1-8d405d9e2549"
      },
      "source": [
        "# instantiating and generating the count matrix\n",
        "count = CountVectorizer()\n",
        "count_matrix = count.fit_transform(new_df['bag_of_words'])\n",
        "\n",
        "# creating a Series for the movie titles so they are associated to an ordered numerical\n",
        "# list I will use later to match the indexes\n",
        "indices = pd.Series(new_df.index)\n",
        "indices[:5]"
      ],
      "execution_count": 88,
      "outputs": [
        {
          "output_type": "execute_result",
          "data": {
            "text/plain": [
              "0    Movie\n",
              "1    Movie\n",
              "2    Movie\n",
              "3    Movie\n",
              "4    Movie\n",
              "Name: type, dtype: object"
            ]
          },
          "metadata": {
            "tags": []
          },
          "execution_count": 88
        }
      ]
    },
    {
      "cell_type": "code",
      "metadata": {
        "id": "8g7gUEKjP5c9",
        "colab_type": "code",
        "colab": {
          "base_uri": "https://localhost:8080/",
          "height": 238
        },
        "outputId": "0cdca028-be25-4f4c-fc6f-182b244a6a43"
      },
      "source": [
        "# generating the cosine similarity matrix\n",
        "cosine_sim = cosine_similarity(count_matrix, count_matrix)\n",
        "cosine_sim"
      ],
      "execution_count": 89,
      "outputs": [
        {
          "output_type": "execute_result",
          "data": {
            "text/plain": [
              "array([[1.        , 0.09304842, 0.12309149, ..., 0.05170877, 0.08891084,\n",
              "        0.04351941],\n",
              "       [0.09304842, 1.        , 0.16798421, ..., 0.05292561, 0.13650473,\n",
              "        0.08908708],\n",
              "       [0.12309149, 0.16798421, 1.        , ..., 0.09335201, 0.24077171,\n",
              "        0.19641855],\n",
              "       ...,\n",
              "       [0.05170877, 0.05292561, 0.09335201, ..., 1.        , 0.05057217,\n",
              "        0.04950738],\n",
              "       [0.08891084, 0.13650473, 0.24077171, ..., 0.05057217, 1.        ,\n",
              "        0.08512565],\n",
              "       [0.04351941, 0.08908708, 0.19641855, ..., 0.04950738, 0.08512565,\n",
              "        1.        ]])"
            ]
          },
          "metadata": {
            "tags": []
          },
          "execution_count": 89
        }
      ]
    },
    {
      "cell_type": "code",
      "metadata": {
        "id": "9_LALSS8P7uf",
        "colab_type": "code",
        "colab": {}
      },
      "source": [
        "# function that takes in movie title as input and returns the top 10 recommended movies\n",
        "def recommendations(Title, cosine_sim = cosine_sim):\n",
        "    \n",
        "    recommended_movies = []\n",
        "    \n",
        "    # gettin the index of the movie that matches the title\n",
        "    idx = indices[indices == Title].index[0]\n",
        "\n",
        "    # creating a Series with the similarity scores in descending order\n",
        "    score_series = pd.Series(cosine_sim[idx]).sort_values(ascending = False)\n",
        "\n",
        "    # getting the indexes of the 10 most similar movies\n",
        "    top_10_indexes = list(score_series.iloc[1:11].index)\n",
        "    \n",
        "    # populating the list with the titles of the best 10 matching movies\n",
        "    for i in top_10_indexes:\n",
        "        recommended_movies.append(list(new_df.index)[i])\n",
        "        \n",
        "    return recommended_movies"
      ],
      "execution_count": 0,
      "outputs": []
    },
    {
      "cell_type": "code",
      "metadata": {
        "id": "BHuOXZ9gQIoT",
        "colab_type": "code",
        "colab": {
          "base_uri": "https://localhost:8080/",
          "height": 306
        },
        "outputId": "296e74a1-dce7-4149-aa29-6d1bed4037f9"
      },
      "source": [
        "recommendations('Rocky')"
      ],
      "execution_count": 91,
      "outputs": [
        {
          "output_type": "error",
          "ename": "IndexError",
          "evalue": "ignored",
          "traceback": [
            "\u001b[0;31m---------------------------------------------------------------------------\u001b[0m",
            "\u001b[0;31mIndexError\u001b[0m                                Traceback (most recent call last)",
            "\u001b[0;32m<ipython-input-91-555e4084c1a2>\u001b[0m in \u001b[0;36m<module>\u001b[0;34m()\u001b[0m\n\u001b[0;32m----> 1\u001b[0;31m \u001b[0mrecommendations\u001b[0m\u001b[0;34m(\u001b[0m\u001b[0;34m'Rocky'\u001b[0m\u001b[0;34m)\u001b[0m\u001b[0;34m\u001b[0m\u001b[0;34m\u001b[0m\u001b[0m\n\u001b[0m",
            "\u001b[0;32m<ipython-input-90-aea19441bd5a>\u001b[0m in \u001b[0;36mrecommendations\u001b[0;34m(Title, cosine_sim)\u001b[0m\n\u001b[1;32m      4\u001b[0m \u001b[0;34m\u001b[0m\u001b[0m\n\u001b[1;32m      5\u001b[0m     \u001b[0;31m# gettin the index of the movie that matches the title\u001b[0m\u001b[0;34m\u001b[0m\u001b[0;34m\u001b[0m\u001b[0;34m\u001b[0m\u001b[0m\n\u001b[0;32m----> 6\u001b[0;31m     \u001b[0midx\u001b[0m \u001b[0;34m=\u001b[0m \u001b[0mindices\u001b[0m\u001b[0;34m[\u001b[0m\u001b[0mindices\u001b[0m \u001b[0;34m==\u001b[0m \u001b[0mTitle\u001b[0m\u001b[0;34m]\u001b[0m\u001b[0;34m.\u001b[0m\u001b[0mindex\u001b[0m\u001b[0;34m[\u001b[0m\u001b[0;36m0\u001b[0m\u001b[0;34m]\u001b[0m\u001b[0;34m\u001b[0m\u001b[0;34m\u001b[0m\u001b[0m\n\u001b[0m\u001b[1;32m      7\u001b[0m \u001b[0;34m\u001b[0m\u001b[0m\n\u001b[1;32m      8\u001b[0m     \u001b[0;31m# creating a Series with the similarity scores in descending order\u001b[0m\u001b[0;34m\u001b[0m\u001b[0;34m\u001b[0m\u001b[0;34m\u001b[0m\u001b[0m\n",
            "\u001b[0;32m/usr/local/lib/python3.6/dist-packages/pandas/core/indexes/base.py\u001b[0m in \u001b[0;36m__getitem__\u001b[0;34m(self, key)\u001b[0m\n\u001b[1;32m   4278\u001b[0m         \u001b[0;32mif\u001b[0m \u001b[0mis_scalar\u001b[0m\u001b[0;34m(\u001b[0m\u001b[0mkey\u001b[0m\u001b[0;34m)\u001b[0m\u001b[0;34m:\u001b[0m\u001b[0;34m\u001b[0m\u001b[0;34m\u001b[0m\u001b[0m\n\u001b[1;32m   4279\u001b[0m             \u001b[0mkey\u001b[0m \u001b[0;34m=\u001b[0m \u001b[0mcom\u001b[0m\u001b[0;34m.\u001b[0m\u001b[0mcast_scalar_indexer\u001b[0m\u001b[0;34m(\u001b[0m\u001b[0mkey\u001b[0m\u001b[0;34m)\u001b[0m\u001b[0;34m\u001b[0m\u001b[0;34m\u001b[0m\u001b[0m\n\u001b[0;32m-> 4280\u001b[0;31m             \u001b[0;32mreturn\u001b[0m \u001b[0mgetitem\u001b[0m\u001b[0;34m(\u001b[0m\u001b[0mkey\u001b[0m\u001b[0;34m)\u001b[0m\u001b[0;34m\u001b[0m\u001b[0;34m\u001b[0m\u001b[0m\n\u001b[0m\u001b[1;32m   4281\u001b[0m \u001b[0;34m\u001b[0m\u001b[0m\n\u001b[1;32m   4282\u001b[0m         \u001b[0;32mif\u001b[0m \u001b[0misinstance\u001b[0m\u001b[0;34m(\u001b[0m\u001b[0mkey\u001b[0m\u001b[0;34m,\u001b[0m \u001b[0mslice\u001b[0m\u001b[0;34m)\u001b[0m\u001b[0;34m:\u001b[0m\u001b[0;34m\u001b[0m\u001b[0;34m\u001b[0m\u001b[0m\n",
            "\u001b[0;31mIndexError\u001b[0m: index 0 is out of bounds for axis 0 with size 0"
          ]
        }
      ]
    },
    {
      "cell_type": "code",
      "metadata": {
        "id": "a75_kBAhQJ9N",
        "colab_type": "code",
        "colab": {}
      },
      "source": [
        "recommendations('Kai Po Che!')"
      ],
      "execution_count": 0,
      "outputs": []
    },
    {
      "cell_type": "code",
      "metadata": {
        "id": "dNTFxRmeQOp7",
        "colab_type": "code",
        "colab": {}
      },
      "source": [
        ""
      ],
      "execution_count": 0,
      "outputs": []
    }
  ]
}